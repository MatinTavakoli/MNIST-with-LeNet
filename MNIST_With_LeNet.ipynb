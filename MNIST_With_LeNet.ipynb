{
  "nbformat": 4,
  "nbformat_minor": 0,
  "metadata": {
    "colab": {
      "name": "MNIST-With-LeNet.ipynb",
      "provenance": [],
      "collapsed_sections": []
    },
    "kernelspec": {
      "name": "python3",
      "display_name": "Python 3"
    },
    "language_info": {
      "name": "python"
    },
    "accelerator": "GPU"
  },
  "cells": [
    {
      "cell_type": "markdown",
      "source": [
        "First we import our libraries."
      ],
      "metadata": {
        "id": "XozxVE-kiqia"
      }
    },
    {
      "cell_type": "code",
      "execution_count": 60,
      "metadata": {
        "id": "SK1Lr4bxikSf"
      },
      "outputs": [],
      "source": [
        "from keras.datasets import mnist, fashion_mnist\n",
        "from keras import utils, layers, models, losses\n",
        "import tensorflow\n",
        "from tensorflow.keras.optimizers import Adam\n",
        "import matplotlib.pyplot as plt"
      ]
    },
    {
      "cell_type": "markdown",
      "source": [
        "Now we load the datasets, splitting them into their separate groups (train and test sets, respectively).\n",
        "\\* Use one of MNIST digits or Fashion-MNIST"
      ],
      "metadata": {
        "id": "IaJ9EXjQjmN1"
      }
    },
    {
      "cell_type": "code",
      "source": [
        "(train_images, train_labels), (test_images, test_labels) = mnist.load_data()\n",
        "# (train_images, train_labels), (test_images, test_labels) = fashion_mnist.load_data()\n",
        "print('MNIST digits train set size is: {}'.format(train_images.shape))\n",
        "print('MNIST digits train labels size is: {}'.format(train_labels.shape))\n",
        "print('MNIST digits test set size is: {}'.format(test_images.shape))\n",
        "print('MNIST digits test labels size is: {}'.format(test_labels.shape))"
      ],
      "metadata": {
        "colab": {
          "base_uri": "https://localhost:8080/"
        },
        "id": "N08GYuMWkEWm",
        "outputId": "aa406989-d38f-4967-db40-146069c9e295"
      },
      "execution_count": 61,
      "outputs": [
        {
          "output_type": "stream",
          "name": "stdout",
          "text": [
            "Downloading data from https://storage.googleapis.com/tensorflow/tf-keras-datasets/mnist.npz\n",
            "11493376/11490434 [==============================] - 0s 0us/step\n",
            "11501568/11490434 [==============================] - 0s 0us/step\n",
            "MNIST digits train set size is: (60000, 28, 28)\n",
            "MNIST digits train labels size is: (60000,)\n",
            "MNIST digits test set size is: (10000, 28, 28)\n",
            "MNIST digits test labels size is: (10000,)\n"
          ]
        }
      ]
    },
    {
      "cell_type": "markdown",
      "source": [
        "Plotting a random image and its corresponding label, just to make sure everything is ok!"
      ],
      "metadata": {
        "id": "MeT9T4kskwC_"
      }
    },
    {
      "cell_type": "code",
      "source": [
        "plt.imshow(train_images[805], cmap='gray')\n",
        "plt.show()\n",
        "print(train_labels[805])"
      ],
      "metadata": {
        "colab": {
          "base_uri": "https://localhost:8080/",
          "height": 282
        },
        "id": "GRkZqSl8k7TO",
        "outputId": "a59232c3-c199-4e71-a050-be9faee93a36"
      },
      "execution_count": 62,
      "outputs": [
        {
          "output_type": "display_data",
          "data": {
            "image/png": "[encoded data removed]",
            "text/plain": [
              "<Figure size 432x288 with 1 Axes>"
            ]
          },
          "metadata": {
            "needs_background": "light"
          }
        },
        {
          "output_type": "stream",
          "name": "stdout",
          "text": [
            "5\n"
          ]
        }
      ]
    },
    {
      "cell_type": "markdown",
      "source": [
        "Before feeding the data into the neural network, first we need to add a dummy axis for channels (because our images are in grayscale), and then normalize it."
      ],
      "metadata": {
        "id": "ahcFNS6RmLta"
      }
    },
    {
      "cell_type": "code",
      "source": [
        "train_images = train_images.reshape((60000, 28, 28, 1)).astype('float32') / 255\n",
        "test_images = test_images.reshape((10000, 28, 28, 1)).astype('float32') / 255\n",
        "train_labels = utils.np_utils.to_categorical(train_labels)\n",
        "test_labels = utils.np_utils.to_categorical(test_labels)"
      ],
      "metadata": {
        "id": "07T8rsIOma-R"
      },
      "execution_count": 63,
      "outputs": []
    },
    {
      "cell_type": "markdown",
      "source": [
        "Now we construct the LeNet-5 architecture."
      ],
      "metadata": {
        "id": "DE_U6FBVwnCR"
      }
    },
    {
      "cell_type": "code",
      "source": [
        "model = models.Sequential()\n",
        "# First Layer\n",
        "model.add(layers.Conv2D(filters=32, kernel_size=5, strides=1, activation='relu', input_shape=(28,28, 1)))\n",
        "model.add(layers.MaxPool2D(pool_size=2, strides=2))\n",
        "# Second Layer\n",
        "model.add(layers.Conv2D(filters=48, kernel_size=5, strides=1, activation='relu', input_shape=(14,14, 32)))\n",
        "model.add(layers.MaxPool2D(pool_size=2, strides=2))\n",
        "#Dense Layers\n",
        "model.add(layers.Flatten())\n",
        "model.add(layers.Dense(units=256, activation='relu'))\n",
        "model.add(layers.Dense(units=84, activation='relu'))\n",
        "model.add(layers.Dense(units=10, activation='softmax'))\n",
        "adam = Adam(lr=5e-4)\n",
        "model.compile(optimizer=adam, loss= 'categorical_crossentropy', metrics=['accuracy'])"
      ],
      "metadata": {
        "id": "htKzdlibwmfi",
        "colab": {
          "base_uri": "https://localhost:8080/"
        },
        "outputId": "52a2fa64-8780-4bc4-8c2d-65783c4a9ad0"
      },
      "execution_count": 64,
      "outputs": [
        {
          "output_type": "stream",
          "name": "stderr",
          "text": [
            "/usr/local/lib/python3.7/dist-packages/keras/optimizer_v2/adam.py:105: UserWarning: The `lr` argument is deprecated, use `learning_rate` instead.\n",
            "  super(Adam, self).__init__(name, **kwargs)\n"
          ]
        }
      ]
    },
    {
      "cell_type": "markdown",
      "source": [
        "Printing the overall information of the architecture we created."
      ],
      "metadata": {
        "id": "VlPOIaKT1iC-"
      }
    },
    {
      "cell_type": "code",
      "source": [
        "model.summary()"
      ],
      "metadata": {
        "colab": {
          "base_uri": "https://localhost:8080/"
        },
        "id": "8guULjOC1mGd",
        "outputId": "fd126d19-41ff-411f-a366-81e6c2c05ce2"
      },
      "execution_count": 65,
      "outputs": [
        {
          "output_type": "stream",
          "name": "stdout",
          "text": [
            "Model: \"sequential_12\"\n",
            "_________________________________________________________________\n",
            " Layer (type)                Output Shape              Param #   \n",
            "=================================================================\n",
            " conv2d_24 (Conv2D)          (None, 24, 24, 32)        832       \n",
            "                                                                 \n",
            " max_pooling2d_24 (MaxPoolin  (None, 12, 12, 32)       0         \n",
            " g2D)                                                            \n",
            "                                                                 \n",
            " conv2d_25 (Conv2D)          (None, 8, 8, 48)          38448     \n",
            "                                                                 \n",
            " max_pooling2d_25 (MaxPoolin  (None, 4, 4, 48)         0         \n",
            " g2D)                                                            \n",
            "                                                                 \n",
            " flatten_12 (Flatten)        (None, 768)               0         \n",
            "                                                                 \n",
            " dense_36 (Dense)            (None, 256)               196864    \n",
            "                                                                 \n",
            " dense_37 (Dense)            (None, 84)                21588     \n",
            "                                                                 \n",
            " dense_38 (Dense)            (None, 10)                850       \n",
            "                                                                 \n",
            "=================================================================\n",
            "Total params: 258,582\n",
            "Trainable params: 258,582\n",
            "Non-trainable params: 0\n",
            "_________________________________________________________________\n"
          ]
        }
      ]
    },
    {
      "cell_type": "markdown",
      "source": [
        "Now we train!"
      ],
      "metadata": {
        "id": "tSbAvAMU1nfc"
      }
    },
    {
      "cell_type": "code",
      "source": [
        "model.fit(train_images, train_labels, epochs=30, batch_size=10, validation_split=0.25)"
      ],
      "metadata": {
        "colab": {
          "base_uri": "https://localhost:8080/"
        },
        "id": "jioKKpRZ1qDi",
        "outputId": "9e297e72-a84c-4c0d-f249-73c0e28215a9"
      },
      "execution_count": 66,
      "outputs": [
        {
          "output_type": "stream",
          "name": "stdout",
          "text": [
            "Epoch 1/30\n",
            "4500/4500 [==============================] - 29s 6ms/step - loss: 0.1375 - accuracy: 0.9577 - val_loss: 0.0553 - val_accuracy: 0.9825\n",
            "Epoch 2/30\n",
            "4500/4500 [==============================] - 27s 6ms/step - loss: 0.0440 - accuracy: 0.9866 - val_loss: 0.0447 - val_accuracy: 0.9866\n",
            "Epoch 3/30\n",
            "4500/4500 [==============================] - 28s 6ms/step - loss: 0.0312 - accuracy: 0.9905 - val_loss: 0.0385 - val_accuracy: 0.9887\n",
            "Epoch 4/30\n",
            "4500/4500 [==============================] - 27s 6ms/step - loss: 0.0216 - accuracy: 0.9934 - val_loss: 0.0388 - val_accuracy: 0.9887\n",
            "Epoch 5/30\n",
            "4500/4500 [==============================] - 27s 6ms/step - loss: 0.0161 - accuracy: 0.9948 - val_loss: 0.0557 - val_accuracy: 0.9852\n",
            "Epoch 6/30\n",
            "4500/4500 [==============================] - 27s 6ms/step - loss: 0.0142 - accuracy: 0.9958 - val_loss: 0.0433 - val_accuracy: 0.9891\n",
            "Epoch 7/30\n",
            "4500/4500 [==============================] - 28s 6ms/step - loss: 0.0120 - accuracy: 0.9961 - val_loss: 0.0458 - val_accuracy: 0.9885\n",
            "Epoch 8/30\n",
            "4500/4500 [==============================] - 28s 6ms/step - loss: 0.0103 - accuracy: 0.9971 - val_loss: 0.0486 - val_accuracy: 0.9887\n",
            "Epoch 9/30\n",
            "4500/4500 [==============================] - 28s 6ms/step - loss: 0.0097 - accuracy: 0.9968 - val_loss: 0.0561 - val_accuracy: 0.9899\n",
            "Epoch 10/30\n",
            "4500/4500 [==============================] - 27s 6ms/step - loss: 0.0072 - accuracy: 0.9978 - val_loss: 0.0604 - val_accuracy: 0.9887\n",
            "Epoch 11/30\n",
            "4500/4500 [==============================] - 29s 6ms/step - loss: 0.0069 - accuracy: 0.9980 - val_loss: 0.0562 - val_accuracy: 0.9903\n",
            "Epoch 12/30\n",
            "4500/4500 [==============================] - 29s 6ms/step - loss: 0.0079 - accuracy: 0.9977 - val_loss: 0.0491 - val_accuracy: 0.9901\n",
            "Epoch 13/30\n",
            "4500/4500 [==============================] - 29s 6ms/step - loss: 0.0075 - accuracy: 0.9980 - val_loss: 0.0551 - val_accuracy: 0.9907\n",
            "Epoch 14/30\n",
            "4500/4500 [==============================] - 28s 6ms/step - loss: 0.0057 - accuracy: 0.9984 - val_loss: 0.0588 - val_accuracy: 0.9903\n",
            "Epoch 15/30\n",
            "4500/4500 [==============================] - 28s 6ms/step - loss: 0.0052 - accuracy: 0.9986 - val_loss: 0.0611 - val_accuracy: 0.9901\n",
            "Epoch 16/30\n",
            "4500/4500 [==============================] - 29s 6ms/step - loss: 0.0062 - accuracy: 0.9983 - val_loss: 0.0676 - val_accuracy: 0.9895\n",
            "Epoch 17/30\n",
            "4500/4500 [==============================] - 28s 6ms/step - loss: 0.0044 - accuracy: 0.9988 - val_loss: 0.0717 - val_accuracy: 0.9904\n",
            "Epoch 18/30\n",
            "4500/4500 [==============================] - 29s 6ms/step - loss: 0.0083 - accuracy: 0.9980 - val_loss: 0.0677 - val_accuracy: 0.9895\n",
            "Epoch 19/30\n",
            "4500/4500 [==============================] - 29s 6ms/step - loss: 0.0039 - accuracy: 0.9987 - val_loss: 0.0779 - val_accuracy: 0.9896\n",
            "Epoch 20/30\n",
            "4500/4500 [==============================] - 29s 6ms/step - loss: 0.0044 - accuracy: 0.9988 - val_loss: 0.0914 - val_accuracy: 0.9883\n",
            "Epoch 21/30\n",
            "4500/4500 [==============================] - 28s 6ms/step - loss: 0.0050 - accuracy: 0.9987 - val_loss: 0.0766 - val_accuracy: 0.9909\n",
            "Epoch 22/30\n",
            "4500/4500 [==============================] - 28s 6ms/step - loss: 0.0050 - accuracy: 0.9990 - val_loss: 0.0811 - val_accuracy: 0.9897\n",
            "Epoch 23/30\n",
            "4500/4500 [==============================] - 28s 6ms/step - loss: 0.0046 - accuracy: 0.9989 - val_loss: 0.0848 - val_accuracy: 0.9912\n",
            "Epoch 24/30\n",
            "4500/4500 [==============================] - 29s 6ms/step - loss: 0.0062 - accuracy: 0.9986 - val_loss: 0.1101 - val_accuracy: 0.9862\n",
            "Epoch 25/30\n",
            "4500/4500 [==============================] - 27s 6ms/step - loss: 0.0033 - accuracy: 0.9993 - val_loss: 0.1123 - val_accuracy: 0.9888\n",
            "Epoch 26/30\n",
            "4500/4500 [==============================] - 27s 6ms/step - loss: 0.0047 - accuracy: 0.9989 - val_loss: 0.1047 - val_accuracy: 0.9899\n",
            "Epoch 27/30\n",
            "4500/4500 [==============================] - 29s 6ms/step - loss: 0.0038 - accuracy: 0.9992 - val_loss: 0.1129 - val_accuracy: 0.9895\n",
            "Epoch 28/30\n",
            "4500/4500 [==============================] - 27s 6ms/step - loss: 0.0049 - accuracy: 0.9988 - val_loss: 0.0938 - val_accuracy: 0.9901\n",
            "Epoch 29/30\n",
            "4500/4500 [==============================] - 27s 6ms/step - loss: 0.0038 - accuracy: 0.9992 - val_loss: 0.1007 - val_accuracy: 0.9912\n",
            "Epoch 30/30\n",
            "4500/4500 [==============================] - 27s 6ms/step - loss: 0.0064 - accuracy: 0.9988 - val_loss: 0.1679 - val_accuracy: 0.9861\n"
          ]
        },
        {
          "output_type": "execute_result",
          "data": {
            "text/plain": [
              "<keras.callbacks.History at 0x7f5e8e8597d0>"
            ]
          },
          "metadata": {},
          "execution_count": 66
        }
      ]
    },
    {
      "cell_type": "markdown",
      "source": [
        "And finally, we evaluate on the test set!"
      ],
      "metadata": {
        "id": "i75uQSFRG1FO"
      }
    },
    {
      "cell_type": "code",
      "source": [
        "model.evaluate(test_images, test_labels)"
      ],
      "metadata": {
        "colab": {
          "base_uri": "https://localhost:8080/"
        },
        "id": "EgWxNqC9G5Vx",
        "outputId": "044ce67b-c108-432b-814c-257084e77cac"
      },
      "execution_count": 67,
      "outputs": [
        {
          "output_type": "stream",
          "name": "stdout",
          "text": [
            "313/313 [==============================] - 2s 5ms/step - loss: 0.1196 - accuracy: 0.9890\n"
          ]
        },
        {
          "output_type": "execute_result",
          "data": {
            "text/plain": [
              "[0.1195773333311081, 0.9890000224113464]"
            ]
          },
          "metadata": {},
          "execution_count": 67
        }
      ]
    }
  ]
}